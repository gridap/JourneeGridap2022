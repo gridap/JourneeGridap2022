{
 "cells": [
  {
   "cell_type": "markdown",
   "metadata": {},
   "source": [
    "# Tutorial 3: Unfitted Poisson problem"
   ]
  },
  {
   "cell_type": "markdown",
   "metadata": {},
   "source": [
    "In this **tutorial**, we will learn\n",
    "\n",
    "- How to formulate an unfitted finite element method\n",
    "- How to construct an unfitted boundary geometry setup\n",
    "- How to use the Aggregated Finite Element Method\n",
    "- How to impose Dirichlet boundary conditions _weakly_\n",
    "\n",
    "## Problem statement\n",
    "\n",
    "We want to find the scalar field $u$ such that\n",
    "\n",
    "$$\n",
    "\\left\\lbrace\n",
    "\\begin{aligned}\n",
    "-\\Delta u &= 0 \\ &\\text{in} \\ \\Omega,\\\\\n",
    "u &= x - y \\ &\\text{on}\\ \\partial\\Omega,\n",
    "\\end{aligned}\n",
    "\\right.\n",
    "$$\n",
    "\n",
    "where $\\Omega$ is the crescent moon 2D shape\n",
    "\n",
    "<img src=\"crescent_moon.png\" width=\"280\">\n",
    "\n",
    "## Numerical scheme\n",
    "\n",
    "We will use unfitted FEM.\n",
    "\n",
    "The main motivation is to avoid meshing complicated geometries.\n",
    "\n",
    "The main idea is to embed $\\Omega$ into a background grid $\\tilde{\\Omega}$.\n",
    "\n",
    "FE spaces are formulated on the grid $\\tilde{\\Omega}$, while the weak form is integrated in $\\Omega$.\n",
    "\n",
    "\n",
    "| Body-fitted | Unfitted |\n",
    "| ----  | ---- |\n",
    "| <img src=\"fig_2_body-fitted_a_bis.png\" width=\"240\"> | <img src=\"fig_3_unfitted.png\" width=\"240\">\n",
    "\n",
    "In unfitted, we have no control over how mesh cuts geometry\n",
    "* numerical integration of the weak form is more involved\n",
    "* Dirichlet boundary conditions must be weakly imposed\n",
    "* standard FEMs are generally not stable and ill-conditioned\n",
    "\n",
    "We show next a typical unfitted FE simulation pipeline in [GridapEmbedded](https://github.com/gridap/GridapEmbedded.jl)\n",
    "\n",
    "We use Aggregated FEM, which is robust to small cut cells"
   ]
  },
  {
   "cell_type": "code",
   "execution_count": 15,
   "metadata": {},
   "outputs": [],
   "source": [
    "using Gridap\n",
    "using GridapEmbedded"
   ]
  },
  {
   "cell_type": "markdown",
   "metadata": {},
   "source": [
    "### Embedded boundary representation\n",
    "\n",
    "We use the level-set method and constructive solid geometry\n",
    "\n",
    "$\\partial\\Omega$ is represented as the zero-level-set of a given $\\psi$ by\n",
    "\n",
    "$$\n",
    "\\partial\\Omega = \\{ (x,y) \\ | \\ \\psi(x,y) = 0 \\}\n",
    "$$\n",
    "\n",
    "Note that $\\partial\\Omega$ is the result of subtracting two disks:\n",
    "\n",
    "<img src=\"crescent_moon_setup.png\" width=\"280\">\n",
    "\n",
    "We use this to construct $\\psi$"
   ]
  },
  {
   "cell_type": "code",
   "execution_count": 16,
   "metadata": {},
   "outputs": [
    {
     "data": {
      "text/plain": [
       "AnalyticalGeometry(Node((:-, \"\", nothing),Leaf((GridapEmbedded.LevelSetCutters.var\"#diskfun#9\"{VectorValue{2, Float64}, Float64}((0.0, 0.0), 0.5), \"disk\", GridapEmbedded.LevelSetCutters.BoundingBox{2, Float64}((-0.505, -0.505), (0.505, 0.505)))),Leaf((GridapEmbedded.LevelSetCutters.var\"#diskfun#9\"{VectorValue{2, Float64}, Float64}((-0.25, 0.25), 0.5), \"disk\", GridapEmbedded.LevelSetCutters.BoundingBox{2, Float64}((-0.755, -0.255), (0.255, 0.755))))))"
      ]
     },
     "execution_count": 16,
     "metadata": {},
     "output_type": "execute_result"
    }
   ],
   "source": [
    "R  = 0.5\n",
    "L  = 0.5*R\n",
    "p1 = Point(0.0,0.0)\n",
    "p2 = p1 + VectorValue(-L,L)\n",
    "\n",
    "geo1 = disk(R,x0=p1) # Lower right disk\n",
    "geo2 = disk(R,x0=p2) # Upper left disk\n",
    "geo3 = setdiff(geo1,geo2)"
   ]
  },
  {
   "cell_type": "markdown",
   "metadata": {},
   "source": [
    "### Unfitted triangulations\n",
    "\n",
    "We generate a background grid containing $\\partial\\Omega$"
   ]
  },
  {
   "cell_type": "code",
   "execution_count": 17,
   "metadata": {},
   "outputs": [
    {
     "data": {
      "text/plain": [
       "VectorValue{2, Float64}(1.01, 1.01)"
      ]
     },
     "execution_count": 17,
     "metadata": {},
     "output_type": "execute_result"
    }
   ],
   "source": [
    "t = 1.01\n",
    "pmin = p1-t*R\n",
    "pmax = p1+t*R\n",
    "\n",
    "n = 30\n",
    "partition = (n,n)\n",
    "bgmodel = CartesianDiscreteModel(pmin,pmax,partition)\n",
    "dp = pmax - pmin"
   ]
  },
  {
   "cell_type": "markdown",
   "metadata": {},
   "source": [
    "We need \"Active\" and \"Physical\" triangulations (in gray below)\n",
    "\n",
    "\n",
    "| Active | Physical |\n",
    "| ----  | ---- |\n",
    "| _For_ FE spaces (FE bases, DoFs) | _For_ integrating the weak form |\n",
    "| <img src=\"fig_active_triangulation.png\" width=\"280\"> | <img src=\"fig_physical_trian_1.png\" width=\"280\">\n",
    "\n",
    "To generate them, we cut first the embedded geometry against the model"
   ]
  },
  {
   "cell_type": "code",
   "execution_count": 18,
   "metadata": {},
   "outputs": [
    {
     "data": {
      "text/plain": [
       "EmbeddedDiscretization()"
      ]
     },
     "execution_count": 18,
     "metadata": {},
     "output_type": "execute_result"
    }
   ],
   "source": [
    "cutgeo = cut(bgmodel,geo3)"
   ]
  },
  {
   "cell_type": "markdown",
   "metadata": {},
   "source": [
    "#### Active triangulation"
   ]
  },
  {
   "cell_type": "code",
   "execution_count": 19,
   "metadata": {},
   "outputs": [
    {
     "data": {
      "text/plain": [
       "BodyFittedTriangulation()"
      ]
     },
     "execution_count": 19,
     "metadata": {},
     "output_type": "execute_result"
    }
   ],
   "source": [
    "Ω_act = Triangulation(cutgeo,ACTIVE)"
   ]
  },
  {
   "cell_type": "markdown",
   "metadata": {},
   "source": [
    "We plot the active trian (gray) on the background grid"
   ]
  },
  {
   "cell_type": "code",
   "execution_count": 20,
   "metadata": {},
   "outputs": [
    {
     "data": {
      "text/plain": [
       "([\"act_trian.vtu\"],)"
      ]
     },
     "execution_count": 20,
     "metadata": {},
     "output_type": "execute_result"
    }
   ],
   "source": [
    "Ω_bg = Triangulation(bgmodel)\n",
    "writevtk(Ω_bg,\"bg_trian\")\n",
    "writevtk(Ω_act,\"act_trian\")"
   ]
  },
  {
   "cell_type": "markdown",
   "metadata": {},
   "source": [
    "<img src=\"fig_active_triangulation.png\" width=\"280\">\n",
    "\n",
    "#### Physical triangulation"
   ]
  },
  {
   "cell_type": "code",
   "execution_count": 21,
   "metadata": {},
   "outputs": [
    {
     "data": {
      "text/plain": [
       "([\"phys_trian.vtu\"],)"
      ]
     },
     "execution_count": 21,
     "metadata": {},
     "output_type": "execute_result"
    }
   ],
   "source": [
    "Ω = Triangulation(cutgeo,PHYSICAL)\n",
    "writevtk(Ω,\"phys_trian\")"
   ]
  },
  {
   "cell_type": "markdown",
   "metadata": {},
   "source": [
    "We plot the physical trian (gray) on the background grid\n",
    "\n",
    "<img src=\"fig_physical_trian_1.png\" width=\"280\">\n",
    "\n",
    "Subtriangulations on cut cells are used to restrict integration to $\\Omega$\n",
    "\n",
    "<img src=\"fig_physical_trian_2.png\" width=\"280\">\n",
    "\n",
    "We also plot the active trian on top of the physical one\n",
    "\n",
    "<img src=\"fig_physical_trian_3.png\" width=\"280\">\n",
    "\n",
    "### Unfitted FE spaces\n",
    "\n",
    "#### AgFEM approximation\n",
    "\n",
    "The main idea is to remove DoFs on cut cells with very small local support.\n",
    "\n",
    "To do that, we constrain exterior DoFs ${\\color{red}\\times}$, in terms of interior DOFs ${\\color{blue}\\bullet}$, as follows:\n",
    "1. We map each exterior DoF ${\\color{red}\\times}$ to an interior cell $\\tilde{K}({\\color{red}\\times})$ of $\\Omega_{\\rm act}$ (aggregation).\n",
    "2. We extrapolate the DoF value of ${\\color{red}\\times}$ with the local FE functions of $\\tilde{K}({\\color{red}\\times})$.\n",
    "\n",
    "This leads to:\n",
    "$$\n",
    "  u_{{\\color{red}\\times}} = \\sum_{{\\color{blue}\\bullet}\\in \\tilde{K}({\\color{red}\\times})} \\varphi_{{\\color{blue}\\bullet}}(x_{{\\color{red}\\times}})u_{{\\color{blue}\\bullet}}, \\quad \\forall {\\color{red}\\times} \\in \\mathcal{E}\n",
    "$$\n",
    "\n",
    "# <img src=\"fig_agfemspace.png\" width=\"280\">\n",
    "\n",
    "For an AgFEM space, we generate first a standard linear FE space **on the `ACTIVE` triangulation**.\n",
    "\n",
    "Note that we do not prescribe any strong Dirichlet BCS."
   ]
  },
  {
   "cell_type": "code",
   "execution_count": 22,
   "metadata": {},
   "outputs": [
    {
     "data": {
      "text/plain": [
       "UnconstrainedFESpace()"
      ]
     },
     "execution_count": 22,
     "metadata": {},
     "output_type": "execute_result"
    }
   ],
   "source": [
    "order = 1\n",
    "reffe = ReferenceFE(lagrangian,Float64,order)\n",
    "Vstd = TestFESpace(Ω_act,reffe)"
   ]
  },
  {
   "cell_type": "markdown",
   "metadata": {},
   "source": [
    "We construct the aggregates"
   ]
  },
  {
   "cell_type": "code",
   "execution_count": 23,
   "metadata": {},
   "outputs": [
    {
     "data": {
      "text/plain": [
       "900-element Vector{Int32}:\n",
       "  0\n",
       "  0\n",
       "  0\n",
       "  0\n",
       "  0\n",
       "  0\n",
       "  0\n",
       "  0\n",
       "  0\n",
       "  0\n",
       " 42\n",
       " 42\n",
       " 43\n",
       "  ⋮\n",
       "  0\n",
       "  0\n",
       "  0\n",
       "  0\n",
       "  0\n",
       "  0\n",
       "  0\n",
       "  0\n",
       "  0\n",
       "  0\n",
       "  0\n",
       "  0"
      ]
     },
     "execution_count": 23,
     "metadata": {},
     "output_type": "execute_result"
    }
   ],
   "source": [
    "strategy = AggregateAllCutCells()\n",
    "aggregates = aggregate(strategy,cutgeo)"
   ]
  },
  {
   "cell_type": "markdown",
   "metadata": {},
   "source": [
    "The AgFEM spaces are"
   ]
  },
  {
   "cell_type": "code",
   "execution_count": 24,
   "metadata": {},
   "outputs": [
    {
     "data": {
      "text/plain": [
       "FESpaceWithLinearConstraints()"
      ]
     },
     "execution_count": 24,
     "metadata": {},
     "output_type": "execute_result"
    }
   ],
   "source": [
    "V = AgFEMSpace(Vstd,aggregates)\n",
    "U = TrialFESpace(V)"
   ]
  },
  {
   "cell_type": "markdown",
   "metadata": {},
   "source": [
    "### Unfitted measures\n",
    "\n",
    "We define integration measures **on the `PHYSICAL` triangulation**."
   ]
  },
  {
   "cell_type": "code",
   "execution_count": 25,
   "metadata": {},
   "outputs": [
    {
     "data": {
      "text/plain": [
       "Measure()"
      ]
     },
     "execution_count": 25,
     "metadata": {},
     "output_type": "execute_result"
    }
   ],
   "source": [
    "degree = 2*order\n",
    "dΩ = Measure(Ω,degree)"
   ]
  },
  {
   "cell_type": "markdown",
   "metadata": {},
   "source": [
    "In general, we must do `degree = 2*dim*order` because Fubini theorem does not hold on cut regions\n",
    "\n",
    "See commented tutorial for more details\n",
    "\n",
    "### Imposing Dirichlet boundary conditions\n",
    "\n",
    "We must impose Dirichlet BCs _weakly_\n",
    "\n",
    "| Model problem | Body-fitted | Unfitted |\n",
    "| ---- | ---- | ---- |\n",
    "| <img src=\"fig_cp_bcs.png\" width=\"180\"> | <img src=\"fig_bf_bcs.png\" width=\"180\"> | <img src=\"fig_ud_bcs.png\" width=\"180\"> |\n",
    "| | Remove Dirichlet DoFs | No DoFs on $\\Gamma_{\\rm D}$!!! |\n",
    "\n",
    "For this purpose, we use Nitsche's method:\n",
    "$$\n",
    "\\begin{aligned}\n",
    "a_K(u,v) &\\doteq \\int_{\\Omega \\cap K} \\nabla u \\cdot \\nabla v \\ \\mathrm{d}\\Omega + \\int_{\\Gamma_{\\rm D} \\cap K} \\beta_K uv -  (\\nabla u \\cdot \\boldsymbol{n} ) v - (\\nabla v \\cdot \\boldsymbol{n} ) u \\ \\mathrm{d}\\Omega \\\\\n",
    "l_K(v) &\\doteq \\int_{\\Omega \\cap K} f v \\ \\mathrm{d}\\Omega + \\int_{\\Gamma_{\\rm N} \\cap K} g v \\ \\mathrm{d}\\Gamma + \\int_{\\Gamma_{\\rm D} \\cap K} \\beta_K u_{\\rm D}v - (\\nabla v \\cdot \\boldsymbol{n} ) u_{\\rm D} \\ \\mathrm{d}\\Omega\n",
    "\\end{aligned}\n",
    "$$\n",
    "where $\\beta_K$ must be large enough to ensure well-posedness.\n",
    "\n",
    "Thus, we need to integrate boundary terms on the embedded boundary"
   ]
  },
  {
   "cell_type": "code",
   "execution_count": 26,
   "metadata": {},
   "outputs": [
    {
     "data": {
      "text/plain": [
       "Measure()"
      ]
     },
     "execution_count": 26,
     "metadata": {},
     "output_type": "execute_result"
    }
   ],
   "source": [
    "Γ = EmbeddedBoundary(cutgeo)\n",
    "n_Γ = get_normal_vector(Γ)\n",
    "dΓ = Measure(Γ,degree)"
   ]
  },
  {
   "cell_type": "markdown",
   "metadata": {},
   "source": [
    "### Weak form\n",
    "\n",
    "We take $\\beta_K$ constant in $\\Omega$\n",
    "\n",
    "$$\n",
    "\\begin{aligned}\n",
    "a(u,v) &\\doteq \\int_{\\Omega} \\nabla u \\cdot \\nabla v \\ \\mathrm{d}\\Omega + \\int_{\\partial\\Omega} \\beta uv -  (\\nabla u \\cdot \\boldsymbol{n} ) v - (\\nabla v \\cdot \\boldsymbol{n} ) u \\ \\mathrm{d}\\Omega \\\\\n",
    "l(v) &\\doteq \\int_{\\partial\\Omega} \\beta u_{\\rm D}v - (\\nabla v \\cdot \\boldsymbol{n} ) u_{\\rm D} \\ \\mathrm{d}\\Omega\n",
    "\\end{aligned}\n",
    "$$"
   ]
  },
  {
   "cell_type": "code",
   "execution_count": 27,
   "metadata": {},
   "outputs": [
    {
     "data": {
      "text/plain": [
       "l (generic function with 1 method)"
      ]
     },
     "execution_count": 27,
     "metadata": {},
     "output_type": "execute_result"
    }
   ],
   "source": [
    "u(x) = x[1] - x[2] # Solution of the problem\n",
    "const β = 10.0     # Nitsche coefficient\n",
    "const h = dp[1]/n  # Mesh size\n",
    "\n",
    "a(u,v) =\n",
    "  ∫( ∇(v)⋅∇(u) )dΩ +\n",
    "  ∫( (β/h)*v*u  - v*(n_Γ⋅∇(u)) - (n_Γ⋅∇(v))*u )dΓ\n",
    "\n",
    "l(v) = ∫( (β/h)*v*u - (n_Γ⋅∇(v))*u )dΓ"
   ]
  },
  {
   "cell_type": "markdown",
   "metadata": {},
   "source": [
    "The rest of the pipeline is as a standard FE simulation."
   ]
  },
  {
   "cell_type": "code",
   "execution_count": 28,
   "metadata": {},
   "outputs": [
    {
     "data": {
      "text/plain": [
       "\u001b[32m\u001b[1mTest Passed\u001b[22m\u001b[39m"
      ]
     },
     "execution_count": 28,
     "metadata": {},
     "output_type": "execute_result"
    }
   ],
   "source": [
    "op = AffineFEOperator(a,l,U,V)\n",
    "uh = solve(op)\n",
    "\n",
    "e = u - uh\n",
    "\n",
    "l2(u) = sqrt(sum( ∫( u*u )*dΩ ))\n",
    "h1(u) = sqrt(sum( ∫( u*u + ∇(u)⋅∇(u) )*dΩ ))\n",
    "\n",
    "el2 = l2(e)\n",
    "eh1 = h1(e)\n",
    "ul2 = l2(uh)\n",
    "uh1 = h1(uh)\n",
    "\n",
    "using Test\n",
    "@test el2/ul2 < 1.e-8\n",
    "@test eh1/uh1 < 1.e-7"
   ]
  },
  {
   "cell_type": "markdown",
   "metadata": {},
   "source": [
    "**Tutorial done!**"
   ]
  },
  {
   "cell_type": "markdown",
   "metadata": {},
   "source": [
    "---\n",
    "\n",
    "*This notebook was generated using [Literate.jl](https://github.com/fredrikekre/Literate.jl).*"
   ]
  }
 ],
 "metadata": {
  "kernelspec": {
   "display_name": "Julia 1.8.1",
   "language": "julia",
   "name": "julia-1.8"
  },
  "language_info": {
   "file_extension": ".jl",
   "mimetype": "application/julia",
   "name": "julia",
   "version": "1.8.1"
  }
 },
 "nbformat": 4,
 "nbformat_minor": 3
}
