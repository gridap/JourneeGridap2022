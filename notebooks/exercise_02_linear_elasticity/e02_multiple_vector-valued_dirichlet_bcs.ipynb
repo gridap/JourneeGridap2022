{
 "cells": [
  {
   "cell_type": "markdown",
   "metadata": {},
   "source": [
    "# Exercise 2: Multiple vector-valued Dirichlet BCs"
   ]
  },
  {
   "cell_type": "markdown",
   "metadata": {},
   "source": [
    "## Contents\n",
    "\n",
    "We will learn\n",
    "\n",
    " - How to impose Dirichlet boundary conditions only in selected components\n",
    " - How to impose Dirichlet boundary conditions described by more than one function\n",
    "\n",
    "## Problem statement\n",
    "\n",
    "Solve the linear elasticity problem defined on the 3D domain\n",
    "\n",
    "<img src=\"solid.png\" width=\"350\">\n",
    "\n",
    "with Dirichlet and Neumann BCs on the different coloured regions:\n",
    "\n",
    "$$\n",
    "\\left\\lbrace\n",
    "\\begin{aligned}\n",
    "-∇\\cdot\\sigma(u) = 0 \\ &\\text{in} \\ \\Omega,\\\\\n",
    "u = 0 \\ &\\text{on}\\ \\Gamma_{\\rm Green},\\\\\n",
    "u_1 = \\delta \\ &\\text{on}\\ \\Gamma_{\\rm Blue},\\\\\n",
    "\\sigma(u)\\cdot \\boldsymbol{n} = 0 \\ &\\text{on}\\  \\Gamma_{\\rm Olive}.\\\\\n",
    "\\end{aligned}\n",
    "\\right.\n",
    "$$\n",
    "\n",
    "The stress tensor is defined as\n",
    "\n",
    "$$\n",
    "\\sigma(u) \\doteq \\lambda\\ {\\rm tr}(\\varepsilon(u)) \\ \\mathrm{Id} +2 \\mu \\  \\varepsilon(u),\n",
    "$$\n",
    "\n",
    "We consider $E=70\\cdot 10^9$ Pa and $\\nu=0.33$.\n",
    "\n",
    "Then $\\lambda = (E\\nu)/((1+\\nu)(1-2\\nu))$ and $\\mu=E/(2(1+\\nu))$.\n",
    "\n",
    "## Numerical scheme\n",
    "\n",
    "We consider a standard FEM.\n",
    "\n",
    "Find $u\\in U$ such that $a(u,v) = 0$ for all $v\\in V$, where\n",
    "$$\n",
    "a(u,v)\\doteq \\int_{\\Omega} \\sigma(u) : \\varepsilon(v) \\ {\\rm d}\\Omega, \\quad l(v) = 0.0.\n",
    "$$\n",
    "\n",
    "## Load and inspect the discrete model\n",
    "\n",
    "### Exercise 1\n",
    "\n",
    "_Create the discrete model from the Gmsh file `solid.msh`._"
   ]
  },
  {
   "cell_type": "code",
   "execution_count": null,
   "metadata": {},
   "outputs": [],
   "source": [
    "# Have you already loaded all the packages you need?"
   ]
  },
  {
   "cell_type": "markdown",
   "metadata": {},
   "source": [
    "### Exercise 2\n",
    "\n",
    "_Write the model to vtk and open the resulting files with Paraview. Visualize the faces of the model and color them by each of the available fields. Identify the field names representing the boundaries $\\Gamma_{\\rm Blue}$ and $\\Gamma_{\\rm Green}$._"
   ]
  },
  {
   "cell_type": "code",
   "execution_count": null,
   "metadata": {},
   "outputs": [],
   "source": []
  },
  {
   "cell_type": "markdown",
   "metadata": {},
   "source": [
    "## Set up FE spaces and Dirichlet BCs\n",
    "\n",
    "### Test FE space\n",
    "\n",
    "We will construct the vector-valued test FE space as follows:\n",
    "\n",
    "```\n",
    "order = 1\n",
    "reffe = ReferenceFE(lagrangian,VectorValue{3,Float64},order)\n",
    "V = TestFESpace(model,reffe;\n",
    " conformity=:H1,\n",
    " dirichlet_tags=dirichlet_tags,\n",
    " dirichlet_masks=dirichlet_masks)\n",
    "```\n",
    "\n",
    "Vector-valued interpolation is selected via the option `valuetype=VectorValue{3,Float64}`.\n",
    "\n",
    "We will next fill in\n",
    "1. `dirichlet_tags` to identify the Dirichlet regions, and\n",
    "2. `dirichlet_masks` to specify which components of the displacement are constrained.\n",
    "\n",
    "### Exercise 3\n",
    "\n",
    "_Fill in the `dirichlet_tags` with the tag names identified in **Exercise 2** for $\\Gamma_{\\rm Blue}$ and $\\Gamma_{\\rm Green}$._\n",
    "\n",
    "<details>\n",
    "<summary>Click <font color=\"red\"><b>here</b></font> for a hint.</summary>\n",
    "\n",
    "  The input format of `dirichlet_tags` is a 1D array of tag name strings `[\"tag_name_1\",...,\"tag_name_n\"]`.\n",
    "</details>"
   ]
  },
  {
   "cell_type": "code",
   "execution_count": null,
   "metadata": {},
   "outputs": [],
   "source": []
  },
  {
   "cell_type": "markdown",
   "metadata": {},
   "source": [
    "### Exercise 4\n",
    "\n",
    "_Fill in the `dirichlet_masks` to select the displacement components to constrain._\n",
    "\n",
    "We constrain only the first component on the boundary $\\Gamma_{\\rm Blue}$, whereas we constrain all components on $\\Gamma_{\\rm Green}$.\n",
    "\n",
    "<details>\n",
    "<summary>Click <font color=\"red\"><b>here</b></font> for a hint.</summary>\n",
    "\n",
    "  The input format of `dirichlet_masks` is a 1D array with the same length and order as `dirichlet_tags`. Each entry of `dirichlet_masks` is a boolean tuple of length the problem dimension `D`, i.e. `(bool_x1,...,bool_xD)`. If `bool_xi == true`, then the `xi` component of the displacement is constrained, otherwise it is free. Beware of passing the `dirichlet_masks` in the same order as the `dirichlet_tags`.\n",
    "</details>"
   ]
  },
  {
   "cell_type": "code",
   "execution_count": null,
   "metadata": {},
   "outputs": [],
   "source": []
  },
  {
   "cell_type": "markdown",
   "metadata": {},
   "source": [
    "We can now instantiate the vector-valued test FE space."
   ]
  },
  {
   "cell_type": "code",
   "execution_count": null,
   "metadata": {},
   "outputs": [],
   "source": [
    "order = 1\n",
    "reffe = ReferenceFE(lagrangian,VectorValue{3,Float64},order)\n",
    "V     = TestFESpace(model,reffe;\n",
    "                    conformity=:H1,\n",
    "                    dirichlet_tags=dirichlet_tags,\n",
    "                    dirichlet_masks=dirichlet_masks)"
   ]
  },
  {
   "cell_type": "markdown",
   "metadata": {},
   "source": [
    "### Trial FE space\n",
    "\n",
    "The Dirichlet boundary conditions must be described with two different functions, one for boundary $\\Gamma_{\\rm Blue}$ and another one for $\\Gamma_{\\rm Green}$.\n",
    "\n",
    "### Exercise 5\n",
    "\n",
    "_Define the Dirichlet functions according to the problem statement._\n",
    "\n",
    "<details>\n",
    "<summary>Click <font color=\"red\"><b>here</b></font> for a hint.</summary>\n",
    "\n",
    "  The functions must be vector-valued with the format `VectorValue(val_x1,...,val_xD)`.\n",
    "</details>"
   ]
  },
  {
   "cell_type": "code",
   "execution_count": null,
   "metadata": {},
   "outputs": [],
   "source": []
  },
  {
   "cell_type": "markdown",
   "metadata": {},
   "source": [
    "### Exercise 6\n",
    "\n",
    "_Define the trial FE space `U`._\n",
    "\n",
    "<details>\n",
    "<summary>Click <font color=\"red\"><b>here</b></font> for a hint.</summary>\n",
    "\n",
    "  Pass the Dirichlet functions in a one-dimensional array, in the same order as `dirichlet_tags` and `dirichlet_masks`.\n",
    "</details>"
   ]
  },
  {
   "cell_type": "code",
   "execution_count": null,
   "metadata": {},
   "outputs": [],
   "source": []
  },
  {
   "cell_type": "markdown",
   "metadata": {},
   "source": [
    "We will now visually check the Dirichlet values are being correctly assigned on the Dirichlet boundaries.\n",
    "\n",
    "### Exercise 7\n",
    "\n",
    "_Create a `BoundaryTriangulation` of the Dirichlet boundaries._"
   ]
  },
  {
   "cell_type": "code",
   "execution_count": null,
   "metadata": {},
   "outputs": [],
   "source": []
  },
  {
   "cell_type": "markdown",
   "metadata": {},
   "source": [
    "Next, we create a FE Function of `U` with zero-valued free values."
   ]
  },
  {
   "cell_type": "code",
   "execution_count": null,
   "metadata": {},
   "outputs": [],
   "source": [
    "vh = zero(U)"
   ]
  },
  {
   "cell_type": "markdown",
   "metadata": {},
   "source": [
    "### Exercise 8\n",
    "\n",
    "_Plot `vh` on the Dirichlet boundaries using `writevtk`_"
   ]
  },
  {
   "cell_type": "code",
   "execution_count": null,
   "metadata": {},
   "outputs": [],
   "source": []
  },
  {
   "cell_type": "markdown",
   "metadata": {},
   "source": [
    "The plot of the x-component of `vh` should look as follows.\n",
    "\n",
    "<img src=\"fig_dbc.png\" width=\"350\">\n",
    "\n",
    "## From weak form to visualising the solution\n",
    "\n",
    "### Material parameter constants"
   ]
  },
  {
   "cell_type": "code",
   "execution_count": null,
   "metadata": {},
   "outputs": [],
   "source": [
    "const E = 70.0e9\n",
    "const ν = 0.33\n",
    "const λ = (E*ν)/((1+ν)*(1-2*ν))\n",
    "const μ = E/(2*(1+ν))"
   ]
  },
  {
   "cell_type": "markdown",
   "metadata": {},
   "source": [
    "### Stress tensor\n",
    "\n",
    "The symmetric gradient operator is represented by the function `ε` provided by Gridap (also available as `symmetric_gradient`). However, function `σ` representing the stress tensor is not predefined in the library and it has to be defined ad-hoc by the user.\n",
    "\n",
    "### Exercise 9\n",
    "\n",
    "_Define the linear stress tensor `σ`._\n",
    "\n",
    "<details>\n",
    "<summary>Click <font color=\"red\"><b>here</b></font> for a hint.</summary>\n",
    "\n",
    "  Function `σ` takes a strain tensor `ε` and computes the associated stress tensor using the Lamé constants.\n",
    "</details>"
   ]
  },
  {
   "cell_type": "code",
   "execution_count": null,
   "metadata": {},
   "outputs": [],
   "source": []
  },
  {
   "cell_type": "markdown",
   "metadata": {},
   "source": [
    "### Integration mesh and measure"
   ]
  },
  {
   "cell_type": "code",
   "execution_count": null,
   "metadata": {},
   "outputs": [],
   "source": [
    "degree = 2*order\n",
    "Ω      = Interior(model)\n",
    "dΩ     = Measure(Ω,degree)"
   ]
  },
  {
   "cell_type": "markdown",
   "metadata": {},
   "source": [
    "### Exercise 10\n",
    "\n",
    "_Write the weak form of the problem. Both the bilinear and the linear form._\n",
    "\n",
    "\n",
    "<details>\n",
    "<summary>Click <font color=\"red\"><b>here</b></font> for a hint.</summary>\n",
    "\n",
    "  Compose function `σ` with the strain field `ε(u)` in order to compute the stress field associated with the trial function `u`, i.e., `σ∘ε(u)`.\n",
    "</details>"
   ]
  },
  {
   "cell_type": "code",
   "execution_count": null,
   "metadata": {},
   "outputs": [],
   "source": []
  },
  {
   "cell_type": "markdown",
   "metadata": {},
   "source": [
    "### Assemble and solve the problem"
   ]
  },
  {
   "cell_type": "code",
   "execution_count": null,
   "metadata": {},
   "outputs": [],
   "source": [
    "op = AffineFEOperator(a,l,U,V)\n",
    "uh = solve(op)"
   ]
  },
  {
   "cell_type": "markdown",
   "metadata": {},
   "source": [
    "### Exercise 10\n",
    "\n",
    "_Write the solution of the problem along with the strain and stress tensors._"
   ]
  },
  {
   "cell_type": "code",
   "execution_count": null,
   "metadata": {},
   "outputs": [],
   "source": []
  },
  {
   "cell_type": "markdown",
   "metadata": {},
   "source": [
    "If you plot the deformed displacement in ParaView, it can be clearly observed (see next figure) that the surface $\\Gamma_{\\rm Blue}$ is pulled in $x_1$-direction and that the solid deforms accordingly.\n",
    "\n",
    "<img src=\"disp_ux_40.png\" width=\"350\">\n",
    "\n",
    "### Bonus exercise\n",
    "\n",
    "Modify this model to solve a multi-material linear elasticity problem as done [here](https://gridap.github.io/Tutorials/dev/pages/t003_elasticity/#Multi-material-problems-1).\n",
    "\n",
    "**Exercise done!**\n",
    "\n",
    "## References\n",
    "\n",
    "This exercise is adapted from the [Gridap Tutorial 3: Linear elasticity](https://gridap.github.io/Tutorials/dev/pages/t003_elasticity/#Tutorial-3:-Linear-elasticity-1)."
   ]
  },
  {
   "cell_type": "markdown",
   "metadata": {},
   "source": [
    "---\n",
    "\n",
    "*This notebook was generated using [Literate.jl](https://github.com/fredrikekre/Literate.jl).*"
   ]
  }
 ],
 "metadata": {
  "kernelspec": {
   "display_name": "Julia 1.8.3",
   "language": "julia",
   "name": "julia-1.8"
  },
  "language_info": {
   "file_extension": ".jl",
   "mimetype": "application/julia",
   "name": "julia",
   "version": "1.8.3"
  }
 },
 "nbformat": 4,
 "nbformat_minor": 3
}
