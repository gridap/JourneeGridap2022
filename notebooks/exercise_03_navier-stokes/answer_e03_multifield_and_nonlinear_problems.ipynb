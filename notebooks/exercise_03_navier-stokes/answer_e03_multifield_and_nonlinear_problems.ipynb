{
 "cells": [
  {
   "cell_type": "markdown",
   "metadata": {},
   "source": [
    "# Exercise 3: Multifield and nonlinear problems"
   ]
  },
  {
   "cell_type": "markdown",
   "metadata": {},
   "source": [
    "## Contents\n",
    "\n",
    "We will learn\n",
    "\n",
    " - How to solve nonlinear multi-field PDEs in Gridap\n",
    "\n",
    "## Problem statement\n",
    "\n",
    "We consider the lid-driven cavity for the incompressible Navier-Stokes equations:\n",
    "\n",
    "$$\n",
    "\\left\\lbrace\n",
    "\\begin{aligned}\n",
    "-\\Delta u + \\mathit{Re}\\ (u\\cdot \\nabla)\\ u + \\nabla p = 0 &\\text{ in }\\Omega,\\\\\n",
    "\\nabla\\cdot u = 0 &\\text{ in } \\Omega,\\\\\n",
    "u = g &\\text{ on } \\partial\\Omega,\n",
    "\\end{aligned}\n",
    "\\right.\n",
    "$$\n",
    "\n",
    "with $\\Omega \\doteq (0,1)^d$, $d=2$, and $\\mathit{Re} = 10$.\n",
    "\n",
    "$g$ is $(1,0)^t$ on the top side of the cavity and $g=0$ elsewhere.\n",
    "\n",
    "For well-posedness, the mean value of the pressure must be zero:\n",
    "\n",
    "$$\n",
    "\\int_\\Omega q \\ {\\rm d}\\Omega = 0.\n",
    "$$\n",
    "\n",
    "## Numerical Scheme\n",
    "\n",
    "We choose inf-sub stable $Q_k/P_{k-1}$ FEs, with continuous velocities and discontinuous pressures:\n",
    "\n",
    "The weak form reads:\n",
    "\n",
    "Find $(u,p)\\in U_h \\times Q_0$ such that $[r(u,p)](v,q)=0$ for all $(v,q)\\in V_0 \\times Q_0$\n",
    "where\n",
    "\n",
    "$$\n",
    "[r(u,p)](v,q) \\doteq a((u,p),(v,q))+ [c(u)](v),\n",
    "$$\n",
    "with\n",
    "$$\n",
    "\\begin{aligned}\n",
    "a((u,p),(v,q)) &\\doteq \\int_{\\Omega} \\nabla v \\cdot \\nabla u \\ {\\rm d}\\Omega - \\int_{\\Omega} (\\nabla\\cdot v) \\ p \\ {\\rm d}\\Omega + \\int_{\\Omega} q \\ (\\nabla \\cdot u) \\ {\\rm d}\\Omega,\\\\\n",
    "[c(u)](v) &\\doteq \\int_{\\Omega} v \\cdot \\left( Re \\ (u\\cdot\\nabla)\\ u \\right)\\ {\\rm d}\\Omega.\\\\\n",
    "\\end{aligned}\n",
    "$$\n",
    "\n",
    "We will solve this nonlinear weak equation with a Newton-Raphson method.\n",
    "\n",
    "The Jacobian will be computed with AD.\n",
    "\n",
    "## Create the discrete model\n",
    "\n",
    "We consider a $100\\times100$ Cartesian mesh of the unit square."
   ]
  },
  {
   "cell_type": "code",
   "execution_count": null,
   "metadata": {},
   "outputs": [],
   "source": [
    "using Gridap\n",
    "n = 100\n",
    "domain = (0,1,0,1)\n",
    "partition = (n,n)\n",
    "model = CartesianDiscreteModel(domain,partition)"
   ]
  },
  {
   "cell_type": "markdown",
   "metadata": {},
   "source": [
    "The default face labeling of a 2D Cartesian discrete model is:\n",
    "\n",
    "<img src=\"lexicographic.png\" width=\"240\">\n",
    "\n",
    "We use next these labels to create new Dirichlet tags for the top side and the rest of the boundary.\n",
    "\n",
    "### Exercise 1\n",
    "\n",
    "_Create two new boundary tags,`\"diri1\"` and `\"diri0\"`, one for the top side of the square and another for the rest of the boundary._\n",
    "\n",
    "<details>\n",
    "<summary>Click <font color=\"red\"><b>here</b></font> for a hint.</summary>\n",
    "\n",
    " Gridap provides a convenient way to create new object identifiers (referred to as \"tags\") from existing ones. First, we need to extract the object that holds the information about the boundary identifier. Then, we can add new identifiers (aka \"tags\") to `labels` using `add_tag_from_tags!(labels,\"new_tag\",[old_tag_1,...,old_tag_n])`.\n",
    "</details>"
   ]
  },
  {
   "cell_type": "code",
   "execution_count": null,
   "metadata": {},
   "outputs": [],
   "source": [
    "labels = get_face_labeling(model) # Extract boundary identifiers\n",
    "add_tag_from_tags!(labels,\"diri1\",[6,])\n",
    "add_tag_from_tags!(labels,\"diri0\",[1,2,3,4,5,7,8])"
   ]
  },
  {
   "cell_type": "markdown",
   "metadata": {},
   "source": [
    "## Set up multifield FE spaces\n",
    "\n",
    "### Exercise 2\n",
    "\n",
    "_For the velocities, create a second order vector-valued continuous Lagrangian test FE space. Prescribe Dirichlet BCs._"
   ]
  },
  {
   "cell_type": "code",
   "execution_count": null,
   "metadata": {},
   "outputs": [],
   "source": [
    "D = 2\n",
    "order = 2\n",
    "reffeᵤ = ReferenceFE(lagrangian,VectorValue{D,Float64},order)\n",
    "V_h = TestFESpace(model,reffeᵤ,dirichlet_tags=[\"diri0\",\"diri1\"])"
   ]
  },
  {
   "cell_type": "markdown",
   "metadata": {},
   "source": [
    "### Exercise 3\n",
    "\n",
    "_For the pressure, instantiate a linear discontinuous FE space of functions strongly constrained to have zero mean value._\n",
    "\n",
    "<details>\n",
    "<summary>Click <font color=\"red\"><b>here</b></font> for a hint.</summary>\n",
    "\n",
    " - Use `space=:P` to set the reffe in $P_1$.\n",
    " - Use `conformity=:L2` to set up a discontinuous FE space.\n",
    " - Use `constraint=:zeromean` to set a FE space whose functions have zero mean value.\n",
    "</details>"
   ]
  },
  {
   "cell_type": "code",
   "execution_count": null,
   "metadata": {},
   "outputs": [],
   "source": [
    "reffeₚ = ReferenceFE(lagrangian,Float64,order-1;space=:P)\n",
    "Q = TestFESpace(model,reffeₚ,conformity=:L2,constraint=:zeromean)"
   ]
  },
  {
   "cell_type": "markdown",
   "metadata": {},
   "source": [
    "### Exercise 4\n",
    "\n",
    "_Create the trial velocity and pressure FE spaces._\n",
    "\n",
    "<details>\n",
    "<summary>Click <font color=\"red\"><b>here</b></font> for a hint.</summary>\n",
    "\n",
    " Remember to create the functions prescribing the Dirichlet values at the `diri0` and `diri1` regions.\n",
    "</details>"
   ]
  },
  {
   "cell_type": "code",
   "execution_count": null,
   "metadata": {},
   "outputs": [],
   "source": [
    "uD0 = VectorValue(0,0)\n",
    "uD1 = VectorValue(1,0)\n",
    "U = TrialFESpace(V_h,[uD0,uD1])\n",
    "P = TrialFESpace(Q)"
   ]
  },
  {
   "cell_type": "markdown",
   "metadata": {},
   "source": [
    "### Multifield FE spaces"
   ]
  },
  {
   "cell_type": "code",
   "execution_count": null,
   "metadata": {},
   "outputs": [],
   "source": [
    "Y = MultiFieldFESpace([V_h, Q])\n",
    "X = MultiFieldFESpace([U, P])"
   ]
  },
  {
   "cell_type": "markdown",
   "metadata": {},
   "source": [
    "## Create triangulation and integration measure"
   ]
  },
  {
   "cell_type": "code",
   "execution_count": null,
   "metadata": {},
   "outputs": [],
   "source": [
    "degree = order\n",
    "Ωₕ = Interior(model)\n",
    "dΩ = Measure(Ωₕ,degree)"
   ]
  },
  {
   "cell_type": "markdown",
   "metadata": {},
   "source": [
    "## Nonlinear weak form and FE operator\n",
    "\n",
    "Multifield FE spaces are Cartesian product FE spaces.\n",
    "\n",
    "Hence, it's elements are tuples.\n",
    "\n",
    "We will use `(u,p)` and `(v,q)` for trial and test functions.\n",
    "\n",
    "### Exercise 5\n",
    "\n",
    "_Write the bilinear form._\n",
    "\n",
    "$$\n",
    "a((u,p),(v,q)) \\doteq \\int_{\\Omega} \\nabla u \\cdot \\nabla v \\ {\\rm d}\\Omega - \\int_{\\Omega} (\\nabla\\cdot v) \\ p \\ {\\rm d}\\Omega + \\int_{\\Omega} q \\ (\\nabla \\cdot u) \\ {\\rm d}\\Omega\n",
    "$$"
   ]
  },
  {
   "cell_type": "code",
   "execution_count": null,
   "metadata": {},
   "outputs": [],
   "source": [
    "a((u,p),(v,q)) = ∫( ∇(u)⊙∇(v) - (∇⋅v)*p + q*(∇⋅u) )dΩ"
   ]
  },
  {
   "cell_type": "markdown",
   "metadata": {},
   "source": [
    "### Exercise 6\n",
    "\n",
    "_Write the (nonlinear) convective term._\n",
    "\n",
    "$$\n",
    "[c(u)](v) \\doteq \\int_{\\Omega} v \\cdot \\left( Re \\ (u\\cdot\\nabla)\\ u \\right)\\ {\\rm d}\\Omega\n",
    "$$"
   ]
  },
  {
   "cell_type": "code",
   "execution_count": null,
   "metadata": {},
   "outputs": [],
   "source": [
    "const Re = 10.0\n",
    "c(u,v) = ∫( v⊙(Re*(∇(u)⋅u) ) )dΩ"
   ]
  },
  {
   "cell_type": "markdown",
   "metadata": {},
   "source": [
    "### Exercise 7\n",
    "\n",
    "_Write the residual._"
   ]
  },
  {
   "cell_type": "code",
   "execution_count": null,
   "metadata": {},
   "outputs": [],
   "source": [
    "res((u,p),(v,q)) = a((u,p),(v,q)) + c(u,v)"
   ]
  },
  {
   "cell_type": "markdown",
   "metadata": {},
   "source": [
    "We can already set up the FE operator with the residual.\n",
    "\n",
    "Then, the Jacobian is computed with AD."
   ]
  },
  {
   "cell_type": "code",
   "execution_count": null,
   "metadata": {},
   "outputs": [],
   "source": [
    "op = FEOperator(res,X,Y)"
   ]
  },
  {
   "cell_type": "markdown",
   "metadata": {},
   "source": [
    "## Nonlinear solver phase\n",
    "\n",
    "Instead of using PETSc, we solve the problem with Gridap's `FESolver`."
   ]
  },
  {
   "cell_type": "code",
   "execution_count": null,
   "metadata": {},
   "outputs": [],
   "source": [
    "using LineSearches: BackTracking\n",
    "nls = NLSolver(\n",
    "  show_trace=true, method=:newton, linesearch=BackTracking())\n",
    "solver = FESolver(nls)"
   ]
  },
  {
   "cell_type": "markdown",
   "metadata": {},
   "source": [
    "<details>\n",
    "<summary>Click <font color=\"red\"><b>here</b></font> for more details.</summary>\n",
    "\n",
    " Note that the `NLSolver` function used above internally calls the `nlsolve` function of the [NLsolve](https://github.com/JuliaNLSolvers/NLsolve.jl) package with the provided key-word arguments. Thus, one can use any of the nonlinear methods available via the function `nlsolve` to solve the nonlinear FE problem. Here, we have selected a Newton-Raphson method with a back-tracking line-search from the [LineSearches](https://github.com/JuliaNLSolvers/LineSearches.jl) package.\n",
    "</details>\n",
    "\n",
    "We solve the problem without providing an initial guess:"
   ]
  },
  {
   "cell_type": "code",
   "execution_count": null,
   "metadata": {},
   "outputs": [],
   "source": [
    "uh, ph = solve(solver,op) # Default initial guess is zero"
   ]
  },
  {
   "cell_type": "markdown",
   "metadata": {},
   "source": [
    "Finally, we write the results for visualization."
   ]
  },
  {
   "cell_type": "code",
   "execution_count": null,
   "metadata": {},
   "outputs": [],
   "source": [
    "writevtk(Ωₕ,\"ins-results\",cellfields=[\"uh\"=>uh,\"ph\"=>ph])"
   ]
  },
  {
   "cell_type": "markdown",
   "metadata": {},
   "source": [
    "<img src=\"ins_solution.png\" width=\"360\">\n",
    "\n",
    "## References\n",
    "\n",
    "This exercise has been adapted from the [Gridap Tutorial 8: Incompressible Navier-Stokes](https://gridap.github.io/Tutorials/dev/pages/t008_inc_navier_stokes/)\n",
    "\n",
    "**Exercise done!**"
   ]
  },
  {
   "cell_type": "markdown",
   "metadata": {},
   "source": [
    "---\n",
    "\n",
    "*This notebook was generated using [Literate.jl](https://github.com/fredrikekre/Literate.jl).*"
   ]
  }
 ],
 "metadata": {
  "kernelspec": {
   "display_name": "Julia 1.8.1",
   "language": "julia",
   "name": "julia-1.8"
  },
  "language_info": {
   "file_extension": ".jl",
   "mimetype": "application/julia",
   "name": "julia",
   "version": "1.8.1"
  }
 },
 "nbformat": 4,
 "nbformat_minor": 3
}
