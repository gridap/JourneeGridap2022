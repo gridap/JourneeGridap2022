{
 "cells": [
  {
   "cell_type": "markdown",
   "metadata": {},
   "source": [
    "# Exercise 1: Discrete models from GMSH and BCs"
   ]
  },
  {
   "cell_type": "markdown",
   "metadata": {},
   "source": [
    "Let's start with a **warmup** exercise.\n",
    "\n",
    "## Contents\n",
    "\n",
    "We will review\n",
    "\n",
    " - How to load a discrete model from a GMSH file\n",
    " - How to impose Dirichlet and Neumann boundary conditions\n",
    "\n",
    "## Problem statement\n",
    "\n",
    "Solve the **Poisson equation** on the 3D domain\n",
    "\n",
    "<img src=\"model-r1-2.png\" width=\"350\">\n",
    "\n",
    "with\n",
    "- Dirichlet BCs on the external lateral sides\n",
    "- Robin BCs on the internal lateral sides\n",
    "- homogeneous Neumann BCs on the top and bottom sides\n",
    "\n",
    "$$\n",
    "\\left\\lbrace\n",
    "\\begin{aligned}\n",
    "-\\Delta u &= f  \\ &\\text{in} \\ \\Omega,\\\\\n",
    "u &= g \\ &\\text{on}\\ \\Gamma_{\\rm D},\\\\\n",
    "- \\nabla u\\cdot \\boldsymbol{n} &= h (u - u_{\\rm o}) \\ &\\text{on}\\  \\Gamma_{\\rm R},\\\\\n",
    "- \\nabla u\\cdot \\boldsymbol{n} &= 0 \\ &\\text{on}\\  \\Gamma_{\\rm N},\\\\\n",
    "\\end{aligned}\n",
    "\\right.\n",
    "$$\n",
    "\n",
    "We chose $f(x) = 1$, $g(x) = 2$, $h(x)=3$ and $u_{\\rm o}(x) = 1$.\n",
    "\n",
    "## Numerical scheme\n",
    "\n",
    "We consider a standard FEM.\n",
    "\n",
    "Find $u\\in U_h$ such that $ a(u,v) = b(v) $ for all $v\\in V_h$, where\n",
    "$$\n",
    "  a(u,v) \\doteq \\int_{\\Omega} \\nabla u \\cdot \\nabla v \\ {\\rm d}\\Omega + \\int_{\\Gamma_{\\rm R}} h u \\ v \\ {\\rm d}\\Gamma_{\\rm R} \\\\ b(v) \\doteq \\int_{\\Omega} f\\ v  \\ {\\rm  d}\\Omega + \\int_{\\Gamma_{\\rm R}} h u_{\\rm o} \\ v \\ {\\rm d}\\Gamma_{\\rm R}\n",
    "$$\n",
    "\n",
    "## Now, it's your turn!\n",
    "\n",
    "### Exercise 1\n",
    "\n",
    "_Load `Gridap` and `GridapGmsh`._"
   ]
  },
  {
   "cell_type": "code",
   "execution_count": null,
   "metadata": {},
   "outputs": [],
   "source": []
  },
  {
   "cell_type": "markdown",
   "metadata": {},
   "source": [
    "## Create the discrete model\n",
    "\n",
    "### Exercise 2\n",
    "\n",
    "_Read the Gmsh file `toy_model.msh` and create a Gmsh discrete model from it._"
   ]
  },
  {
   "cell_type": "code",
   "execution_count": null,
   "metadata": {},
   "outputs": [],
   "source": []
  },
  {
   "cell_type": "markdown",
   "metadata": {},
   "source": [
    "## Set up FE spaces and Dirichlet BCs\n",
    "\n",
    "### Exercise 3\n",
    "\n",
    "_Create a linear Lagrangian scalar test FE space. Do it from the `model`, since we have not yet generated the triangulation. Identify Dirichlet BCs at the external lateral sides_"
   ]
  },
  {
   "cell_type": "code",
   "execution_count": null,
   "metadata": {},
   "outputs": [],
   "source": []
  },
  {
   "cell_type": "markdown",
   "metadata": {},
   "source": [
    "### Exercise 4\n",
    "\n",
    "_Create the Dirichlet BC function $g(x) = 2.0$. Create the trial FE space._"
   ]
  },
  {
   "cell_type": "code",
   "execution_count": null,
   "metadata": {},
   "outputs": [],
   "source": []
  },
  {
   "cell_type": "markdown",
   "metadata": {},
   "source": [
    "## Integration of Robin BC terms\n",
    "\n",
    "### Exercise 5\n",
    "\n",
    "_Create a Boundary triangulation on the (Robin BC) internal lateral sides._"
   ]
  },
  {
   "cell_type": "code",
   "execution_count": null,
   "metadata": {},
   "outputs": [],
   "source": []
  },
  {
   "cell_type": "markdown",
   "metadata": {},
   "source": [
    "### Exercise 6\n",
    "\n",
    "_Create a Lebesgue measure with a quadrature of degree 2 on $\\Gamma$._"
   ]
  },
  {
   "cell_type": "code",
   "execution_count": null,
   "metadata": {},
   "outputs": [],
   "source": []
  },
  {
   "cell_type": "markdown",
   "metadata": {},
   "source": [
    "## Integration of interior domain terms"
   ]
  },
  {
   "cell_type": "markdown",
   "metadata": {},
   "source": [
    "### Exercise 7\n",
    "\n",
    "_Create the triangulation for the interior domain $\\Omega$. Create a Lebesgue measure with a quadrature of degree 2 on $\\Omega$._"
   ]
  },
  {
   "cell_type": "code",
   "execution_count": null,
   "metadata": {},
   "outputs": [],
   "source": []
  },
  {
   "cell_type": "markdown",
   "metadata": {},
   "source": [
    "## Write the weak form\n",
    "\n",
    "We define functions $f$, $h$ and $u_0$."
   ]
  },
  {
   "cell_type": "code",
   "execution_count": null,
   "metadata": {},
   "outputs": [],
   "source": []
  },
  {
   "cell_type": "markdown",
   "metadata": {},
   "source": [
    "### Exercise 8\n",
    "\n",
    "_Write down the weak form of the problem._\n",
    "\n",
    "$$\n",
    "  a(u,v) \\doteq \\int_{\\Omega} \\nabla u \\cdot \\nabla v \\ {\\rm d}\\Omega + \\int_{\\Gamma_{\\rm R}} h u \\ v \\ {\\rm d}\\Gamma_{\\rm R} \\\\ b(v) \\doteq \\int_{\\Omega} f\\ v  \\ {\\rm  d}\\Omega + \\int_{\\Gamma_{\\rm R}} h u_{\\rm o} \\ v \\ {\\rm d}\\Gamma_{\\rm R}\n",
    "$$"
   ]
  },
  {
   "cell_type": "code",
   "execution_count": null,
   "metadata": {},
   "outputs": [],
   "source": []
  },
  {
   "cell_type": "markdown",
   "metadata": {},
   "source": [
    "To integrate $b$ as defined above, we overload the product rule for the pair (h,uₒ) as follows."
   ]
  },
  {
   "cell_type": "code",
   "execution_count": null,
   "metadata": {},
   "outputs": [],
   "source": []
  },
  {
   "cell_type": "markdown",
   "metadata": {},
   "source": [
    "## Solve the problem and visualise the solution\n",
    "\n",
    "We build and solve the FE problem"
   ]
  },
  {
   "cell_type": "code",
   "execution_count": null,
   "metadata": {},
   "outputs": [],
   "source": []
  },
  {
   "cell_type": "markdown",
   "metadata": {},
   "source": [
    "and inspect the solution by writing it into a `vtk` file.\n",
    "\n",
    "### Exercise 9\n",
    "\n",
    "_Write the solution into a `vtk` file and check it against the picture below._"
   ]
  },
  {
   "cell_type": "code",
   "execution_count": null,
   "metadata": {},
   "outputs": [],
   "source": []
  },
  {
   "cell_type": "markdown",
   "metadata": {},
   "source": [
    "<img src=\"fig_uh.png\" width=\"350\">\n",
    "\n",
    "**Exercise done!**"
   ]
  },
  {
   "cell_type": "markdown",
   "metadata": {},
   "source": [
    "---\n",
    "\n",
    "*This notebook was generated using [Literate.jl](https://github.com/fredrikekre/Literate.jl).*"
   ]
  }
 ],
 "metadata": {
  "kernelspec": {
   "display_name": "Julia 1.8.3",
   "language": "julia",
   "name": "julia-1.8"
  },
  "language_info": {
   "file_extension": ".jl",
   "mimetype": "application/julia",
   "name": "julia",
   "version": "1.8.3"
  }
 },
 "nbformat": 4,
 "nbformat_minor": 3
}
