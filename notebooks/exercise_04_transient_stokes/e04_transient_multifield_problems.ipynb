{
 "cells": [
  {
   "cell_type": "markdown",
   "metadata": {},
   "source": [
    "# Exercise 4: Transient multifield problems"
   ]
  },
  {
   "cell_type": "markdown",
   "metadata": {},
   "source": [
    "## Contents\n",
    "\n",
    "We will learn\n",
    "\n",
    " - How to solve transient multi-field PDEs in Gridap\n",
    "\n",
    "## Problem statement\n",
    "\n",
    "We consider the transient Stokes equations.\n",
    "\n",
    "Assuming the solution of the problem is\n",
    "\n",
    "$$\n",
    "\\begin{aligned}\n",
    "u(x,t) &= t(x_1,x_2)^T, \\\\\n",
    "p(x,t) &= t(x_1-x_2),\n",
    "\\end{aligned}\n",
    "$$\n",
    "\n",
    "the PDE we want to solve is:\n",
    "\n",
    "$$\n",
    "\\left\\lbrace\n",
    "\\begin{aligned}\n",
    "\\frac{\\partial u(t)}{\\partial t} - \\Delta u(t) + \\nabla p &= f(t) & \\text{ in }\\Omega, \\\\\n",
    "\\nabla \\cdot u(t) &= g(t) & \\text{ in } \\Omega, \\\\\n",
    "u(x,t) &= t(x_1,x_2)^T & \\text{ on } \\partial\\Omega, \\\\\n",
    "u(x,0) &= 0.0 & \\text{ in } \\Omega, \\\\\n",
    "p(x,0) &= 0.0 & \\text{ in } \\Omega,\n",
    "\\end{aligned}\n",
    "\\right.\n",
    "$$\n",
    "\n",
    "with $\\Omega \\doteq (0,1)^d$, $d=2$, and $f$ and $g$ are the source terms to be computed from the expressions of $u$ and $p$.\n",
    "\n",
    "## Numerical scheme\n",
    "\n",
    "### Approximation in space\n",
    "\n",
    "We choose inf-sub stable $\\boldsymbol{Q}_2/Q_{1}$ FEs.\n",
    "\n",
    "The weak form of the problem reads: find $(u,p) \\in U_h(t) \\times Q_0$ such that\n",
    "\n",
    "$$\n",
    "  m(t,(u,p),(v,q)) + a(t,(u,p),(v,q)) = b(t,(v,q)) \\quad \\forall (v,q) \\in \\ V_h \\times Q_0\n",
    "$$\n",
    "\n",
    "with $U_h(t)$ is a transient FE space and\n",
    "\n",
    "$$\n",
    "\\begin{aligned}\n",
    "m(t,(u,p),(v,q)) &= \\int_\\Omega \\frac{\\partial u}{\\partial t} v \\ d\\Omega, \\\\\n",
    "a(t,(u,p),(v,q)) &= \\int_{\\Omega} \\nabla u \\cdot \\nabla v \\ {\\rm d}\\Omega - \\int_{\\Omega} (\\nabla\\cdot v) \\ p \\ {\\rm d}\\Omega + \\int_{\\Omega} q \\ (\\nabla \\cdot u) \\ {\\rm d}\\Omega, \\\\\n",
    "b(t,(v,q)) &= \\int_\\Omega f(t) \\cdot v \\ d\\Omega + \\int_\\Omega g(t) \\ q \\ d\\Omega.\n",
    "\\end{aligned}\n",
    "$$\n",
    "\n",
    "### Approximation in space\n",
    "\n",
    "We will consider the ThetaMethod.\n",
    "\n",
    "## Create the discrete model\n",
    "\n",
    "### Exercise 1\n",
    "\n",
    "_Load Gridap and create a $50\\times50$ Cartesian grid of the unit square._"
   ]
  },
  {
   "cell_type": "code",
   "execution_count": null,
   "metadata": {},
   "outputs": [],
   "source": []
  },
  {
   "cell_type": "markdown",
   "metadata": {},
   "source": [
    "## Set  up multifield FE spaces\n",
    "\n",
    "### Exercise 2\n",
    "\n",
    "_Create the test FE spaces of the problem._\n",
    "\n",
    "The spaces of test functions are constant in time and are defined as in steady problems.\n",
    "\n",
    "<details>\n",
    "<summary>Click <font color=\"red\"><b>here</b></font> for a hint.</summary>\n",
    "\n",
    " For the velocities, we need to create the standard vector-valued continuous Lagrangian test FE space of order $k$. For the pressures, the standard scalar-valued continuous Lagrangian test FE space of order $k-1$ with zero mean value. We choose k = 2.\n",
    "\n",
    " Use the tag `boundary` to set up Dirichlet BCs for the velocity everywhere on the boundary $\\partial \\Omega$.\n",
    "</details>"
   ]
  },
  {
   "cell_type": "code",
   "execution_count": null,
   "metadata": {},
   "outputs": [],
   "source": []
  },
  {
   "cell_type": "markdown",
   "metadata": {},
   "source": [
    "The trial space for `u` is a `TransientTrialFESpace`."
   ]
  },
  {
   "cell_type": "code",
   "execution_count": null,
   "metadata": {},
   "outputs": [],
   "source": [
    "u(x,t::Real) = t*VectorValue(x[1],x[2]) # Used, e.g., in visualisation\n",
    "u(t::Real) = x -> u(x,t)                # Used to compute time derivative\n",
    "\n",
    "U = TransientTrialFESpace(V,u)"
   ]
  },
  {
   "cell_type": "markdown",
   "metadata": {},
   "source": [
    "Meanwhile, the space for `p` is constant in time."
   ]
  },
  {
   "cell_type": "code",
   "execution_count": null,
   "metadata": {},
   "outputs": [],
   "source": [
    "P = TrialFESpace(Q)"
   ]
  },
  {
   "cell_type": "markdown",
   "metadata": {},
   "source": [
    "### Exercise 3\n",
    "\n",
    "_Create the multifield FE spaces._\n",
    "\n",
    "The trial multifield FE space must be transient (`U` is transient).\n",
    "\n",
    "_Can you guess the name of a transient multifield FE space signature?_"
   ]
  },
  {
   "cell_type": "code",
   "execution_count": null,
   "metadata": {},
   "outputs": [],
   "source": []
  },
  {
   "cell_type": "markdown",
   "metadata": {},
   "source": [
    "## Triangulation and integration quadrature"
   ]
  },
  {
   "cell_type": "code",
   "execution_count": null,
   "metadata": {},
   "outputs": [],
   "source": [
    "degree = 2*order\n",
    "Ωₕ = Interior(model)\n",
    "dΩ = Measure(Ωₕ,degree)"
   ]
  },
  {
   "cell_type": "markdown",
   "metadata": {},
   "source": [
    "## Defining the source terms `f(t)` and `g(t)`\n",
    "\n",
    "We have that\n",
    "\n",
    "$$\n",
    "f(x,t) = \\frac{\\partial u(x,t)}{\\partial t} - \\Delta u(x,t) + \\nabla p = (x_1+t,x_2-t)^T \\quad \\text{and} \\quad g(x,t) = 2t.\n",
    "$$\n",
    "\n",
    "We define `f(x,t)` and `g(x,t)` in two equivalent ways.\n",
    "\n",
    "First, in a conventional manner:\n",
    "\n",
    "### Exercise 4\n",
    "\n",
    "_Write the expressions for `f` and `g` as written above._\n",
    "\n",
    "Like `u` before, they must be time-dependent functions that return a space-only function."
   ]
  },
  {
   "cell_type": "code",
   "execution_count": null,
   "metadata": {},
   "outputs": [],
   "source": []
  },
  {
   "cell_type": "markdown",
   "metadata": {},
   "source": [
    "Alternatively, we can use AD to get `f` and `g`."
   ]
  },
  {
   "cell_type": "code",
   "execution_count": null,
   "metadata": {},
   "outputs": [],
   "source": [
    "p(t::Real) = x -> t*(x[1]-x[2])\n",
    "\n",
    "f_AD(t::Real) = x -> ∂t(u)(t)(x)-Δ(u(t))(x)+ ∇(p(t))(x)\n",
    "g_AD(t::Real) = x -> (∇⋅u(t))(x)"
   ]
  },
  {
   "cell_type": "markdown",
   "metadata": {},
   "source": [
    "We can do some quick (non-exhaustive) checks:"
   ]
  },
  {
   "cell_type": "code",
   "execution_count": null,
   "metadata": {},
   "outputs": [],
   "source": [
    "@assert f(1.0)(Point(0.5,0.5)) == f_AD(1.0)(Point(0.5,0.5)) == VectorValue(1.5,-0.5)\n",
    "@assert g(1.0)(Point(0.5,0.5)) == g_AD(1.0)(Point(0.5,0.5)) == 2.0"
   ]
  },
  {
   "cell_type": "markdown",
   "metadata": {},
   "source": [
    "## Write down the weak form and the FE operator of the problem\n",
    "\n",
    "Since the problem is linear, we use the `TransientAffineFEOperator` signature.\n",
    "\n",
    "We handle time-dependent quantities by passing $t$ as additional argument to the forms.\n",
    "\n",
    "Meanwhile, for the time derivative we define $m$ as a \"steady-state\" mass contribution.\n",
    "\n",
    "### Exercise 5\n",
    "\n",
    "_Write the bilinear forms `m`, `a` and the time-dependent linear form `b`._\n",
    "\n",
    "<details>\n",
    "<summary>Click <font color=\"red\"><b>here</b></font> for a hint.</summary>\n",
    "\n",
    " - Recall that $m$ is expressed as a \"steady-state\" mass contribution.\n",
    " - The only variables needing an explicit time dependency are the source terms `f` and `g`.\n",
    "</details>\n",
    "\n",
    "$$\n",
    "\\begin{aligned}\n",
    "m(t,(u,p),(v,q)) &= \\int_\\Omega \\frac{\\partial u}{\\partial t} v \\ d\\Omega, \\\\\n",
    "a(t,(u,p),(v,q)) &= \\int_{\\Omega} \\nabla u \\cdot \\nabla v \\ {\\rm d}\\Omega - \\int_{\\Omega} (\\nabla\\cdot v) \\ p \\ {\\rm d}\\Omega + \\int_{\\Omega} q \\ (\\nabla \\cdot u) \\ {\\rm d}\\Omega, \\\\\n",
    "b(t,(v,q)) &= \\int_\\Omega f(t) \\cdot v \\ d\\Omega + \\int_\\Omega g(t) \\ q \\ d\\Omega.\n",
    "\\end{aligned}\n",
    "$$"
   ]
  },
  {
   "cell_type": "code",
   "execution_count": null,
   "metadata": {},
   "outputs": [],
   "source": []
  },
  {
   "cell_type": "markdown",
   "metadata": {},
   "source": [
    "Hence, we instantiate the `TransientAffineFEOperator` as"
   ]
  },
  {
   "cell_type": "code",
   "execution_count": null,
   "metadata": {},
   "outputs": [],
   "source": [
    "op = TransientAffineFEOperator(m,a,b,X,Y)"
   ]
  },
  {
   "cell_type": "markdown",
   "metadata": {},
   "source": [
    "## Set up the transient FE solver\n",
    "\n",
    "We use `LUSolver` to solve the system at each time step."
   ]
  },
  {
   "cell_type": "code",
   "execution_count": null,
   "metadata": {},
   "outputs": [],
   "source": [
    "ls = LUSolver()"
   ]
  },
  {
   "cell_type": "markdown",
   "metadata": {},
   "source": [
    "As ODE solver, we use the 2nd order `ThetaMethod` ($\\theta = 0.5$)."
   ]
  },
  {
   "cell_type": "markdown",
   "metadata": {},
   "source": [
    "### Exercise 6\n",
    "\n",
    "_Define the ODE solver. Use a `ThetaMethod` with `ls` as the solver, $dt = 0.05$ and $\\theta = 0.5$._\n",
    "\n",
    "<details>\n",
    "<summary>Click <font color=\"red\"><b>here</b></font> for a hint.</summary>\n",
    "\n",
    " - Use `methods(ThetaMethod)` to get the signature of the `ThetaMethod` constructor.\n",
    " - Note that the `nls` variable in the constructor is a `NonlinearSolver` and `LinearSolver <: NonlinearSolver`.\n",
    "</details>"
   ]
  },
  {
   "cell_type": "code",
   "execution_count": null,
   "metadata": {},
   "outputs": [],
   "source": []
  },
  {
   "cell_type": "markdown",
   "metadata": {},
   "source": [
    "## Initial condition"
   ]
  },
  {
   "cell_type": "code",
   "execution_count": null,
   "metadata": {},
   "outputs": [],
   "source": [
    "u₀ = interpolate_everywhere(u(0.0),U(0.0))\n",
    "p₀ = interpolate_everywhere(p(0.0),P)\n",
    "x₀ = interpolate_everywhere([u₀,p₀],X(0.0))"
   ]
  },
  {
   "cell_type": "markdown",
   "metadata": {},
   "source": [
    "## Transient solver"
   ]
  },
  {
   "cell_type": "code",
   "execution_count": null,
   "metadata": {},
   "outputs": [],
   "source": [
    "t₀ = 0.0\n",
    "T = 1.0\n",
    "xₕₜ = solve(ode_solver,op,x₀,t₀,T)"
   ]
  },
  {
   "cell_type": "markdown",
   "metadata": {},
   "source": [
    "**Question:** _Did you expect a longer time during the `solve` execution?_\n",
    "\n",
    "`xₕₜ` is just an _iterable_ function and the results at each $t$ are only computed when iterating over it\n",
    "\n",
    "## Postprocessing\n",
    "\n",
    "We compute and output the problem solutions:"
   ]
  },
  {
   "cell_type": "code",
   "execution_count": null,
   "metadata": {},
   "outputs": [],
   "source": [
    "createpvd(\"transient_stokes_solution\") do pvd\n",
    "  for (xₕ,t) in xₕₜ\n",
    "    (uₕ,pₕ) = xₕ\n",
    "    pvd[t] = createvtk(Ωₕ,\"transient_stokes_solution_$t\"*\".vtu\",cellfields=[\"u\"=>uₕ,\"p\"=>pₕ])\n",
    "  end\n",
    "end"
   ]
  },
  {
   "cell_type": "markdown",
   "metadata": {},
   "source": [
    "And visualise them in ParaView.\n",
    "\n",
    "## References\n",
    "\n",
    "[Gridap Tutorial 17: Transient Poisson Equation](https://gridap.github.io/Tutorials/dev/pages/t017_poisson_transient/#Tutorial-17:-Transient-Poisson-equation-1)\n",
    "\n",
    "### Bonus exercises\n",
    "\n",
    "1. _The solution of this problem belongs to the FE space, since it is linear in space and time. Hence the FE solutions `uₕ` and `pₕ` should coincide with `u` and `p` at every time step. Compute the l2 norm of the errors for `uₕ` and `pₕ` inside the iteration over `xₕₜ` and check exacteness (up to arithmetical precision errors)._\n",
    "2. _Write down the residual of the problem and solve it defining the operator as `op = TransientFEOperator(res,X,Y)`, i.e. with the Jacobian computed with automatic differentiation. You might find help on how to do this in [Gridap Tutorial 17: Transient Poisson Equation](https://gridap.github.io/Tutorials/dev/pages/t017_poisson_transient/#Tutorial-17:-Transient-Poisson-equation-1)._\n",
    "\n",
    "**Exercise done!**"
   ]
  },
  {
   "cell_type": "markdown",
   "metadata": {},
   "source": [
    "---\n",
    "\n",
    "*This notebook was generated using [Literate.jl](https://github.com/fredrikekre/Literate.jl).*"
   ]
  }
 ],
 "metadata": {
  "kernelspec": {
   "display_name": "Julia 1.8.3",
   "language": "julia",
   "name": "julia-1.8"
  },
  "language_info": {
   "file_extension": ".jl",
   "mimetype": "application/julia",
   "name": "julia",
   "version": "1.8.3"
  }
 },
 "nbformat": 4,
 "nbformat_minor": 3
}
