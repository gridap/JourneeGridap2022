{
 "cells": [
  {
   "cell_type": "markdown",
   "source": [
    "# Tutorial 4: Transient multifield problems"
   ],
   "metadata": {}
  },
  {
   "cell_type": "markdown",
   "source": [
    "In this **exercise**, we will learn\n",
    "\n",
    " - How to solve transient multi-field PDEs in Gridap\n",
    "\n",
    "## Problem statement\n",
    "\n",
    "We consider now as model problem the transient Stokes equations. We will assume the solution of the problem is given by the velocity $u(x,t) = t(x_1,x_2)^T$ and pressure $p(x,t) = t(x_1-x_2)$. Thus, the PDE we want to solve is: find the velocity vector $u$ and the pressure $p$ such that\n",
    "\n",
    "$$\n",
    "\\left\\lbrace\n",
    "\\begin{aligned}\n",
    "\\frac{\\partial u(t)}{\\partial t} - \\Delta u(t) + \\nabla p &= f(t) & \\text{ in }\\Omega, \\\\\n",
    "\\nabla \\cdot u(t) &= g(t) & \\text{ in } \\Omega, \\\\\n",
    "u(x,t) &= t(x_1,x_2)^T & \\text{ on } \\partial\\Omega, \\\\\n",
    "u(x,0) &= 0.0 & \\text{ in } \\Omega, \\\\\n",
    "p(x,0) &= 0.0 & \\text{ in } \\Omega,\n",
    "\\end{aligned}\n",
    "\\right.\n",
    "$$\n",
    "\n",
    "where the computational domain is the unit square $\\Omega \\doteq (0,1)^d$, $d=2$, and $f$ and $g$ are the source terms that can be easily computed from the expressions of $u$ and $p$.\n",
    "\n",
    "We impose Dirichlet boundary conditions for the velocity on the entire boundary $\\partial\\Omega$ and constrain the mean value of the pressure to zero in order have a well-posed problem.\n",
    "\n",
    "## Numerical scheme\n",
    "\n",
    "In order to approximate this problem **in space** we chose a formulation based on inf-sub stable $\\boldsymbol{Q}_k/Q_{k-1}$ elements with continuous velocities and pressure pairs, the so called Taylor-Hood FEs. The interpolation spaces are defined as follows. The velocity interpolation space is\n",
    "\n",
    "$$\n",
    "V \\doteq \\{ v \\in [C^0(\\Omega)]^d:\\ v|_T\\in [Q_k(T)]^d \\text{ for all } T\\in\\mathcal{T} \\},\n",
    "$$\n",
    "where $T$ denotes an arbitrary cell of the FE mesh $\\mathcal{T}$, and $Q_k(T)$ is the local polynomial space in cell $T$ defined as the multi-variate polynomials in $T$ of order less or equal to $k$ in each spatial coordinate. This is the usual continuous vector-valued Lagrangian FE space of order $k$ defined on a mesh of quadrilaterals or hexahedra. Likewise, the space for the pressure is\n",
    "\n",
    "$$\n",
    "\\begin{aligned}\n",
    "Q_0 &\\doteq \\{ q \\in Q: \\  \\int_\\Omega q \\ {\\rm d}\\Omega = 0\\}, \\text{ with}\\\\\n",
    "Q &\\doteq \\{ q \\in C^0(\\Omega) :\\ q|_T\\in Q_{k-1}(T) \\text{ for all } T\\in\\mathcal{T}\\},\n",
    "\\end{aligned}\n",
    "$$\n",
    "where functions in $Q_0$ are strongly constrained to have zero mean value.\n",
    "\n",
    "The weak form of the problem reads: find $(u,p) \\in U_g(t) \\times Q_0$ such that\n",
    "\n",
    "$$\n",
    "  m(t,(u,p),(v,q)) + a(t,(u,p),(v,q)) = b(t,(v,q)) \\quad \\forall (v,q) \\in \\ V_0 \\times Q_0\n",
    "$$\n",
    "\n",
    "where $U_g(t)$ and $V_0$ are the set of functions in $V$ fulfilling the Dirichlet boundary condition $g(t)$ and $0$ on $\\partial\\Omega$ respectively. Here, $U_g(t)$ is a transient FE space, in the sense that the Dirichlet boundary value of functions in $U_g$ changes in time. The definition of $m(t,(u,p),(v,q))$, $a(t,(u,p),(v,q))$ and $b(t,(v,q))$ is as follows.\n",
    "\n",
    "$$\n",
    "\\begin{aligned}\n",
    "m(t,(u,p),(v,q)) &= \\int_\\Omega \\frac{\\partial u}{\\partial t} v \\ d\\Omega, \\\\\n",
    "a(t,(u,p),(v,q)) &= \\int_{\\Omega} \\nabla u \\cdot \\nabla v \\ {\\rm d}\\Omega - \\int_{\\Omega} (\\nabla\\cdot v) \\ p \\ {\\rm d}\\Omega + \\int_{\\Omega} q \\ (\\nabla \\cdot u) \\ {\\rm d}\\Omega, \\\\\n",
    "b(t,(v,q)) &= \\int_\\Omega f(t) \\cdot v \\ d\\Omega + \\int_\\Omega g(t) \\ q \\ d\\Omega\n",
    "\\end{aligned}\n",
    "$$\n",
    "\n",
    "## Creating the discrete model\n",
    "\n",
    "We start with the discretization of the computational domain. We consider a $50\\times50$ Cartesian grid of the unit square.\n",
    "\n",
    "### Exercise 1\n",
    "\n",
    "_Load Gridap and create a $50\\times50$ Cartesian grid of the unit square._"
   ],
   "metadata": {}
  },
  {
   "outputs": [],
   "cell_type": "code",
   "source": [
    "using Gridap\n",
    "n = 50\n",
    "domain = (0,1,0,1)\n",
    "partition = (n,n)\n",
    "model = CartesianDiscreteModel(domain,partition)"
   ],
   "metadata": {},
   "execution_count": null
  },
  {
   "cell_type": "markdown",
   "source": [
    "## Setting up multifield FE spaces\n",
    "\n",
    "### Exercise 2\n",
    "\n",
    "_Create the test FE spaces of the problem._\n",
    "\n",
    "_For the velocities, we need to create the standard vector-valued continuous Lagrangian test FE space of order $k$. For the pressures, the standard scalar-valued continuous Lagrangian test FE space of order $k-1$ with zero mean value. We choose k = 2._\n",
    "\n",
    "**Hints:**\n",
    "- The spaces of test functions are constant in time and are defined as in steady problems.\n",
    "- Use the tag `boundary` to set up Dirichlet BCs for the velocity everywhere on the boundary $\\partial \\Omega$."
   ],
   "metadata": {}
  },
  {
   "outputs": [],
   "cell_type": "code",
   "source": [
    "D = 2\n",
    "order = 2\n",
    "reffeᵤ = ReferenceFE(lagrangian,VectorValue{D,Float64},order)\n",
    "V = TestFESpace(model,reffeᵤ,conformity=:H1,dirichlet_tags=\"boundary\")\n",
    "reffeₚ = ReferenceFE(lagrangian,Float64,order-1)\n",
    "Q = TestFESpace(model,reffeₚ,conformity=:H1,constraint=:zeromean)"
   ],
   "metadata": {},
   "execution_count": null
  },
  {
   "cell_type": "markdown",
   "source": [
    "The trial space of the velocities is now a `TransientTrialFESpace`, which is constructed from a `TestFESpace` and a time-dependent function for the Dirichlet boundary condition."
   ],
   "metadata": {}
  },
  {
   "outputs": [],
   "cell_type": "code",
   "source": [
    "u(x,t::Real) = t*VectorValue(x[1],x[2])\n",
    "u(t::Real) = x -> u(x,t)\n",
    "\n",
    "U = TransientTrialFESpace(V,u)"
   ],
   "metadata": {},
   "execution_count": null
  },
  {
   "cell_type": "markdown",
   "source": [
    "We need to provide $u$ overloaded with two methods: (1) A function that evaluates $u$ at a given $(x,t)$ pair (needed, e.g., to output the solution) and (2) $u$ with the time argument only, such that it returns the space-only function for a given $t$ (needed, e.g., to compute the time derivative of $u$).\n",
    "\n",
    "Meanwhile, there is no time derivative operator acting on the pressure. Therefore, the pressure space is constant in time, and thus, defined as in steady problems."
   ],
   "metadata": {}
  },
  {
   "outputs": [],
   "cell_type": "code",
   "source": [
    "P = TrialFESpace(Q)"
   ],
   "metadata": {},
   "execution_count": null
  },
  {
   "cell_type": "markdown",
   "source": [
    "With all these ingredients we create the FE spaces representing the Cartesian product of the velocity and pressure FE spaces, i.e. the multifield FE space where we are seeking the solution the problem. The trial multifield FE space must be a transient one, since `U` is a transient FE space."
   ],
   "metadata": {}
  },
  {
   "outputs": [],
   "cell_type": "code",
   "source": [
    "Y = MultiFieldFESpace([V, Q])\n",
    "X = TransientMultiFieldFESpace([U, P])"
   ],
   "metadata": {},
   "execution_count": null
  },
  {
   "cell_type": "markdown",
   "source": [
    "## Triangulation and integration quadrature\n",
    "\n",
    "We define the triangulation and integration measure from the discrete model as usual:"
   ],
   "metadata": {}
  },
  {
   "outputs": [],
   "cell_type": "code",
   "source": [
    "degree = 2*order\n",
    "Ωₕ = Triangulation(model)\n",
    "dΩ = Measure(Ωₕ,degree)"
   ],
   "metadata": {},
   "execution_count": null
  },
  {
   "cell_type": "markdown",
   "source": [
    "## Defining the source terms of the problem\n",
    "\n",
    "Before writing down the weak form of the problem, we need to construct the time-dependent functions representing the source terms `f(t)` and `g(t)`, corresponding to the right-hand sides of the first and second equation of the problem.\n",
    "\n",
    "Using the fact that the solution of the problem is $u(x,t) = t(x_1,x_2)^T$ and the pressure is $p(x,t) = t(x_1-x_2)$, we have that\n",
    "\n",
    "$$\n",
    "f(x,t) = \\frac{\\partial u(x,t)}{\\partial t} - \\Delta u(x,t) + \\nabla p = (x_1+t,x_2-t)^T \\quad \\text{and} \\quad g(x,t) = 2t,\n",
    "$$\n",
    "\n",
    "where we recall that the pressure is a constant. We will define `f(x,t)` in two equivalent ways. First, we proceed in a conventional manner:\n",
    "\n",
    "### Exercise 3\n",
    "\n",
    "_Write the expressions for the vector-valued function `f` and the scalar function `g` as written above. Like `u` before, they must be time-dependent functions that return a space-only function._"
   ],
   "metadata": {}
  },
  {
   "outputs": [],
   "cell_type": "code",
   "source": [
    "f(t::Real) = x -> VectorValue(x[1]+t,x[2]-t)\n",
    "g(t::Real) = x -> 2*t"
   ],
   "metadata": {},
   "execution_count": null
  },
  {
   "cell_type": "markdown",
   "source": [
    "Alternatively, we can use automatic differentiation to get directly `f` and `g`. In order to do that, we must define `p` before."
   ],
   "metadata": {}
  },
  {
   "outputs": [],
   "cell_type": "code",
   "source": [
    "p(t::Real) = x -> t*(x[1]-x[2])\n",
    "\n",
    "f_AD(t::Real) = x -> ∂t(u)(t)(x)-Δ(u(t))(x)+ ∇(p(t))(x)\n",
    "g_AD(t::Real) = x -> (∇⋅u(t))(x)"
   ],
   "metadata": {},
   "execution_count": null
  },
  {
   "cell_type": "markdown",
   "source": [
    "We can do some quick (non-exhaustive) checks to compare both alternatives:"
   ],
   "metadata": {}
  },
  {
   "outputs": [],
   "cell_type": "code",
   "source": [
    "@assert f(1.0)(Point(0.5,0.5)) == f_AD(1.0)(Point(0.5,0.5)) == VectorValue(1.5,-0.5)\n",
    "@assert g(1.0)(Point(0.5,0.5)) == g_AD(1.0)(Point(0.5,0.5)) == 2.0"
   ],
   "metadata": {},
   "execution_count": null
  },
  {
   "cell_type": "markdown",
   "source": [
    "## Writing down the weak form and the FE operator of the problem\n",
    "\n",
    "The weak form of the problem follows the same structure as other `Gridap` tutorials, where we define the bilinear and linear forms to define the FE operator. In the most general case, we need to deal with time-dependent quantities and with the presence of time derivatives. Here, we exploit the fact that the problem is linear and use the transient Affine FE operator signature `TransientAffineFEOperator`. In that case, we handle time-dependent quantities by passing the time, $t$, as an additional argument to the form, i.e. $a(t,(u,p),(v,q))$. Meanwhile, we take care of the time derivative by defining $m$ as a mass contribution.\n",
    "\n",
    "### Exercise 4\n",
    "\n",
    "_Write the bilinear forms `m`, `a` and the time-dependent linear form `b`. Recall that $m$ is expressed as a mass contribution._\n",
    "\n",
    "**Hint:** The only variables needing an explicit time dependency are the source terms `f` and `g`."
   ],
   "metadata": {}
  },
  {
   "outputs": [],
   "cell_type": "code",
   "source": [
    "m(t,(ut,p),(v,q)) = ∫( ut⋅v )dΩ\n",
    "a(t,(u,p),(v,q))  = ∫( ∇(u)⊙∇(v) - (∇⋅v)*p + q*(∇⋅u) )dΩ\n",
    "b(t,(v,q))        = ∫( f(t)⋅v )dΩ + ∫( g(t)*q )dΩ"
   ],
   "metadata": {},
   "execution_count": null
  },
  {
   "cell_type": "markdown",
   "source": [
    "With all these ingredients we can instantiate the `TransientAffineFEOperator` as:"
   ],
   "metadata": {}
  },
  {
   "outputs": [],
   "cell_type": "code",
   "source": [
    "op = TransientAffineFEOperator(m,a,b,X,Y)"
   ],
   "metadata": {},
   "execution_count": null
  },
  {
   "cell_type": "markdown",
   "source": [
    "## Setting up the transient FE solver\n",
    "\n",
    "We have already built the transient FE problem. Now, the remaining step is to solve it. First, we define a linear solver to be used at each time step. Here we use the `LUSolver`, but other choices are possible."
   ],
   "metadata": {}
  },
  {
   "outputs": [],
   "cell_type": "code",
   "source": [
    "ls = LUSolver()"
   ],
   "metadata": {},
   "execution_count": null
  },
  {
   "cell_type": "markdown",
   "source": [
    "Then, we define the ODE solver. That is, the scheme that will be used for the time integration. In this tutorial we use the 2nd order `ThetaMethod` ($\\theta = 0.5$)."
   ],
   "metadata": {}
  },
  {
   "cell_type": "markdown",
   "source": [
    "### Exercise 5\n",
    "\n",
    "_Define the ODE solver. Use a `ThetaMethod` with `ls` as the solver, $dt = 0.05$ and $\\theta = 0.5$._\n",
    "\n",
    "**Hint:** Use `methods(ThetaMethod)` to get the signature of the `ThetaMethod` constructor. Note that the `nls` variable in the constructor is a `NonlinearSolver` and `LinearSolver <: NonlinearSolver`."
   ],
   "metadata": {}
  },
  {
   "outputs": [],
   "cell_type": "code",
   "source": [
    "dt = 0.1\n",
    "θ = 0.5\n",
    "ode_solver = ThetaMethod(ls,dt,θ)"
   ],
   "metadata": {},
   "execution_count": null
  },
  {
   "cell_type": "markdown",
   "source": [
    "Finally, we define the solution using the `solve` function, giving the ODE solver, the FE operator, an initial solution, an initial time and a final time. To construct the initial condition we interpolate the initial velocity and pressure into the FE space $X(t) = U(t) \\times P$ at $t = 0.0$."
   ],
   "metadata": {}
  },
  {
   "outputs": [],
   "cell_type": "code",
   "source": [
    "u₀ = interpolate_everywhere(u(0.0),U(0.0))\n",
    "p₀ = interpolate_everywhere(p(0.0),P)\n",
    "\n",
    "x₀ = interpolate_everywhere([u₀,p₀],X(0.0))\n",
    "t₀ = 0.0\n",
    "T = 1.0\n",
    "xₕₜ = solve(ode_solver,op,x₀,t₀,T)"
   ],
   "metadata": {},
   "execution_count": null
  },
  {
   "cell_type": "markdown",
   "source": [
    "## Postprocessing"
   ],
   "metadata": {}
  },
  {
   "cell_type": "markdown",
   "source": [
    "We should highlight that `xₕₜ` is just an _iterable_ function and the results at each time steps are only computed when iterating over it, i.e., lazily. We can post-process the results and generate the corresponding `vtk` files using the `createpvd` and `createvtk` functions. The former will create a `.pvd` file with the collection of `.vtu` files saved at each time step by `createvtk`. The computation of the problem solutions will be triggered in the following loop:"
   ],
   "metadata": {}
  },
  {
   "outputs": [],
   "cell_type": "code",
   "source": [
    "createpvd(\"transient_stokes_solution\") do pvd\n",
    "  for (xₕ,t) in xₕₜ\n",
    "    (uₕ,pₕ) = xₕ\n",
    "    pvd[t] = createvtk(Ωₕ,\"transient_stokes_solution_$t\"*\".vtu\",cellfields=[\"u\"=>uₕ,\"p\"=>pₕ])\n",
    "  end\n",
    "end"
   ],
   "metadata": {},
   "execution_count": null
  },
  {
   "cell_type": "markdown",
   "source": [
    "And visualise them in ParaView.\n",
    "\n",
    "## References\n",
    "\n",
    "[Gridap Tutorial 17: Transient Poisson Equation](https://gridap.github.io/Tutorials/dev/pages/t017_poisson_transient/#Tutorial-17:-Transient-Poisson-equation-1)\n",
    "\n",
    "### Bonus exercises\n",
    "\n",
    "1. _The solution of this problem belongs to the FE space, since it is linear in space and time. Hence the FE solutions `uₕ` and `pₕ` should coincide with `u` and `p` at every time step. Compute the l2 norm of the errors for `uₕ` and `pₕ` inside the iteration over `xₕₜ` and check exacteness (up to arithmetical precision errors)._\n",
    "2. _Write down the residual of the problem and solve it defining the operator as `op = TransientFEOperator(res,X,Y)`, i.e. with the Jacobian computed with automatic differentiation. You might find help on how to do this in [Gridap Tutorial 17: Transient Poisson Equation](https://gridap.github.io/Tutorials/dev/pages/t017_poisson_transient/#Tutorial-17:-Transient-Poisson-equation-1)._\n",
    "\n",
    "**Tutorial done!**"
   ],
   "metadata": {}
  },
  {
   "cell_type": "markdown",
   "source": [
    "---\n",
    "\n",
    "*This notebook was generated using [Literate.jl](https://github.com/fredrikekre/Literate.jl).*"
   ],
   "metadata": {}
  }
 ],
 "nbformat_minor": 3,
 "metadata": {
  "language_info": {
   "file_extension": ".jl",
   "mimetype": "application/julia",
   "name": "julia",
   "version": "1.8.3"
  },
  "kernelspec": {
   "name": "julia-1.8",
   "display_name": "Julia 1.8.3",
   "language": "julia"
  }
 },
 "nbformat": 4
}
